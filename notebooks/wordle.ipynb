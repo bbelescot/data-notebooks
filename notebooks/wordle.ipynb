{
 "cells": [
  {
   "cell_type": "code",
   "execution_count": 1,
   "metadata": {},
   "outputs": [],
   "source": [
    "import pyforest\n",
    "import unidecode\n",
    "import emoji"
   ]
  },
  {
   "cell_type": "code",
   "execution_count": 2,
   "metadata": {},
   "outputs": [
    {
     "data": {
      "application/javascript": "\n        if (window._pyforest_update_imports_cell) { window._pyforest_update_imports_cell('import pandas as pd'); }\n    ",
      "text/plain": [
       "<IPython.core.display.Javascript object>"
      ]
     },
     "metadata": {},
     "output_type": "display_data"
    }
   ],
   "source": [
    "words = pd.read_csv(\"../scripts/wordle/lexique.tsv\", sep=\"\\t\", usecols=[0])\n",
    "words = words.ortho.apply(lambda str_: unidecode.unidecode(str(str_)))\n",
    "words = words[words.apply(len) == 5]\n",
    "words[\"ortho\"] = words.apply(lambda x: x.lower())"
   ]
  },
  {
   "cell_type": "code",
   "execution_count": 3,
   "metadata": {},
   "outputs": [],
   "source": [
    "def wordle(target: str, nb_attempts: int = 6) -> None:\n",
    "    \"\"\"\n",
    "    note: words should be of length 5\n",
    "    \"\"\"\n",
    "    print(\"Pour commencer à jouer, entre un mot de 5 lettres. Bonne chance 🍀 \\n\")\n",
    "    attempt = 1\n",
    "    target = target.lower()\n",
    "    while attempt <= nb_attempts:\n",
    "        word = input().lower()\n",
    "        if len(word) == len(target) == 5:\n",
    "            if word in words.tolist():\n",
    "                if word == target:\n",
    "                    print(evaluate_word(word, target))\n",
    "                    print(f\"Bravo tu as trouvé le mot du jour : {target.upper()} !\")\n",
    "                    break\n",
    "                else:\n",
    "                    attempt += 1\n",
    "                    if attempt <= nb_attempts:\n",
    "                        print(evaluate_word(word, target))\n",
    "                        print(\"\\n\")\n",
    "                    else:\n",
    "                        print(evaluate_word(word, target))\n",
    "                        print(\"\\n\")\n",
    "\n",
    "                        print(\n",
    "                            f\"C'est perdu pour aujourd'hui :( \\nLe mot était {target.upper()} !\"\n",
    "                        )\n",
    "            else:\n",
    "                print(\n",
    "                    \"Le mot proposé n'est pas dans le dictionnaire, choisis en un autre !\"\n",
    "                )\n",
    "        else:\n",
    "            print(\n",
    "                \"Le mot proposé doit faire 5 charactères ! Retente ta chance avec un mot de la bonne longueur.\"\n",
    "            )\n",
    "\n",
    "\n",
    "def evaluate_word(input: str, target: str) -> str:\n",
    "    \"\"\"\n",
    "    2 correctly placed, 1 letter in the word but no at the good spot, 0 letter not in the word\n",
    "    \"\"\"\n",
    "    input_letters = list(input.lower())\n",
    "    target = list(target.lower())\n",
    "    output = []\n",
    "    for i, couple in enumerate(zip(input_letters, target)):\n",
    "        if len(set(couple)) == 1:\n",
    "            output.append(2)\n",
    "        else:\n",
    "            output.append(0)\n",
    "    not_correct_letters = [x if y != 2 else None for x, y in zip(input_letters, output)]\n",
    "    remaining_target_letters = [x if y != 2 else None for x, y in zip(target, output)]\n",
    "    for letter in not_correct_letters:\n",
    "        if letter and letter in remaining_target_letters:\n",
    "            if output[not_correct_letters.index(letter)] != 2:\n",
    "                output[not_correct_letters.index(letter)] = 1\n",
    "    return emoji_matching(output)\n",
    "\n",
    "\n",
    "def emoji_matching(input: list) -> str:\n",
    "    \"\"\"\n",
    "    emoji matching\n",
    "    \"\"\"\n",
    "    output = \"\"\n",
    "    for i in input:\n",
    "        if i == 0:\n",
    "            output += emoji.emojize(\":red_square:\")\n",
    "        elif i == 1:\n",
    "            output += emoji.emojize(\":yellow_circle:\")\n",
    "        elif i == 2:\n",
    "            output += emoji.emojize(\":green_square:\")\n",
    "    return output"
   ]
  },
  {
   "cell_type": "code",
   "execution_count": 4,
   "metadata": {},
   "outputs": [
    {
     "data": {
      "application/javascript": "\n        if (window._pyforest_update_imports_cell) { window._pyforest_update_imports_cell('import pandas as pd\\nimport numpy as np'); }\n    ",
      "text/plain": [
       "<IPython.core.display.Javascript object>"
      ]
     },
     "metadata": {},
     "output_type": "display_data"
    }
   ],
   "source": [
    "pick_random_word = np.random.choice(words)"
   ]
  },
  {
   "cell_type": "code",
   "execution_count": 5,
   "metadata": {},
   "outputs": [
    {
     "name": "stdout",
     "output_type": "stream",
     "text": [
      "Pour commencer à jouer, entre un mot de 5 lettres. Bonne chance 🍀 \n",
      "\n"
     ]
    },
    {
     "name": "stdout",
     "output_type": "stream",
     "text": [
      " PARTI\n"
     ]
    },
    {
     "name": "stdout",
     "output_type": "stream",
     "text": [
      "🟥🟩🟥🟥🟥\n",
      "\n",
      "\n"
     ]
    },
    {
     "name": "stdout",
     "output_type": "stream",
     "text": [
      " CASES\n"
     ]
    },
    {
     "name": "stdout",
     "output_type": "stream",
     "text": [
      "🟥🟩🟥🟡🟥\n",
      "\n",
      "\n"
     ]
    },
    {
     "name": "stdout",
     "output_type": "stream",
     "text": [
      " DAMER\n"
     ]
    },
    {
     "name": "stdout",
     "output_type": "stream",
     "text": [
      "🟥🟩🟡🟡🟥\n",
      "\n",
      "\n"
     ]
    },
    {
     "name": "stdout",
     "output_type": "stream",
     "text": [
      " MASSE\n"
     ]
    },
    {
     "name": "stdout",
     "output_type": "stream",
     "text": [
      "🟩🟩🟥🟥🟩\n",
      "\n",
      "\n"
     ]
    },
    {
     "name": "stdout",
     "output_type": "stream",
     "text": [
      " MATTE\n"
     ]
    },
    {
     "name": "stdout",
     "output_type": "stream",
     "text": [
      "🟩🟩🟥🟥🟩\n",
      "\n",
      "\n"
     ]
    },
    {
     "name": "stdout",
     "output_type": "stream",
     "text": [
      " MARRE\n"
     ]
    },
    {
     "name": "stdout",
     "output_type": "stream",
     "text": [
      "🟩🟩🟥🟥🟩\n",
      "\n",
      "\n",
      "C'est perdu pour aujourd'hui :( \n",
      "Le mot était MAQUE !\n"
     ]
    }
   ],
   "source": [
    "wordle(pick_random_word)"
   ]
  },
  {
   "cell_type": "code",
   "execution_count": null,
   "metadata": {},
   "outputs": [],
   "source": []
  }
 ],
 "metadata": {
  "interpreter": {
   "hash": "b615f7a7bf9c0915420205baab1495ecf97fe14a1972d8c527561a83ec698759"
  },
  "kernelspec": {
   "display_name": "Python 3 (ipykernel)",
   "language": "python",
   "name": "python3"
  },
  "language_info": {
   "codemirror_mode": {
    "name": "ipython",
    "version": 3
   },
   "file_extension": ".py",
   "mimetype": "text/x-python",
   "name": "python",
   "nbconvert_exporter": "python",
   "pygments_lexer": "ipython3",
   "version": "3.8.8"
  }
 },
 "nbformat": 4,
 "nbformat_minor": 4
}
