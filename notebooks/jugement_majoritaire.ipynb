{
 "cells": [
  {
   "cell_type": "markdown",
   "metadata": {},
   "source": [
    "# Jugement Majoritaire"
   ]
  },
  {
   "cell_type": "markdown",
   "metadata": {},
   "source": [
    "## Imports"
   ]
  },
  {
   "cell_type": "code",
   "execution_count": 2,
   "metadata": {
    "id": "exTKzcvcOszb"
   },
   "outputs": [
    {
     "data": {
      "application/javascript": "\n        if (window._pyforest_update_imports_cell) { window._pyforest_update_imports_cell('import pandas as pd'); }\n    ",
      "text/plain": [
       "<IPython.core.display.Javascript object>"
      ]
     },
     "metadata": {},
     "output_type": "display_data"
    }
   ],
   "source": [
    "import pyforest\n",
    "from scripts.jugement_majoritaire.utils import jugement_majoritaire_computations\n",
    "\n",
    "pd.options.display.float_format = \"{:.2%}\".format"
   ]
  },
  {
   "cell_type": "markdown",
   "metadata": {},
   "source": [
    "## Vote data "
   ]
  },
  {
   "cell_type": "code",
   "execution_count": 3,
   "metadata": {
    "id": "2gxn481iOvYq"
   },
   "outputs": [],
   "source": [
    "votes_agg_input = {\n",
    "    \"Proposition 1\": {\n",
    "        \"À Rejeter\": 106,\n",
    "        \"Insuffisant\": 199,\n",
    "        \"Passable\": 98,\n",
    "        \"Assez Bien\": 44,\n",
    "        \"Bien\": 502,\n",
    "        \"Très Bien\": 51,\n",
    "    },\n",
    "    \"Proposition 2\": {\n",
    "        \"À Rejeter\": 203,\n",
    "        \"Insuffisant\": 107,\n",
    "        \"Passable\": 40,\n",
    "        \"Assez Bien\": 503,\n",
    "        \"Bien\": 58,\n",
    "        \"Très Bien\": 89,\n",
    "    },\n",
    "    \"Proposition 3\": {\n",
    "        \"À Rejeter\": 309,\n",
    "        \"Insuffisant\": 200,\n",
    "        \"Passable\": 110,\n",
    "        \"Assez Bien\": 31,\n",
    "        \"Bien\": 203,\n",
    "        \"Très Bien\": 147,\n",
    "    },\n",
    "}"
   ]
  },
  {
   "cell_type": "markdown",
   "metadata": {},
   "source": [
    "## Data Processing"
   ]
  },
  {
   "cell_type": "code",
   "execution_count": 4,
   "metadata": {
    "id": "b4QJCXrlO2Tj"
   },
   "outputs": [],
   "source": [
    "vote_results_percent = jugement_majoritaire_computations(votes_agg_input)"
   ]
  },
  {
   "cell_type": "markdown",
   "metadata": {},
   "source": [
    "## Results"
   ]
  },
  {
   "cell_type": "code",
   "execution_count": 5,
   "metadata": {},
   "outputs": [
    {
     "data": {
      "text/html": [
       "<div>\n",
       "<style scoped>\n",
       "    .dataframe tbody tr th:only-of-type {\n",
       "        vertical-align: middle;\n",
       "    }\n",
       "\n",
       "    .dataframe tbody tr th {\n",
       "        vertical-align: top;\n",
       "    }\n",
       "\n",
       "    .dataframe thead th {\n",
       "        text-align: right;\n",
       "    }\n",
       "</style>\n",
       "<table border=\"1\" class=\"dataframe\">\n",
       "  <thead>\n",
       "    <tr style=\"text-align: right;\">\n",
       "      <th></th>\n",
       "      <th>JUGEMENT MAJORITAIRE</th>\n",
       "      <th>Très Bien</th>\n",
       "      <th>Bien</th>\n",
       "      <th>Assez Bien</th>\n",
       "      <th>Passable</th>\n",
       "      <th>Insuffisant</th>\n",
       "      <th>À Rejeter</th>\n",
       "    </tr>\n",
       "  </thead>\n",
       "  <tbody>\n",
       "    <tr>\n",
       "      <th>Proposition 1</th>\n",
       "      <td>BIEN</td>\n",
       "      <td>5.10%</td>\n",
       "      <td>50.20%</td>\n",
       "      <td>4.40%</td>\n",
       "      <td>9.80%</td>\n",
       "      <td>19.90%</td>\n",
       "      <td>10.60%</td>\n",
       "    </tr>\n",
       "    <tr>\n",
       "      <th>Proposition 2</th>\n",
       "      <td>ASSEZ BIEN</td>\n",
       "      <td>8.90%</td>\n",
       "      <td>5.80%</td>\n",
       "      <td>50.30%</td>\n",
       "      <td>4.00%</td>\n",
       "      <td>10.70%</td>\n",
       "      <td>20.30%</td>\n",
       "    </tr>\n",
       "    <tr>\n",
       "      <th>Proposition 3</th>\n",
       "      <td>INSUFFISANT</td>\n",
       "      <td>14.70%</td>\n",
       "      <td>20.30%</td>\n",
       "      <td>3.10%</td>\n",
       "      <td>11.00%</td>\n",
       "      <td>20.00%</td>\n",
       "      <td>30.90%</td>\n",
       "    </tr>\n",
       "  </tbody>\n",
       "</table>\n",
       "</div>"
      ],
      "text/plain": [
       "              JUGEMENT MAJORITAIRE  Très Bien  ...  Insuffisant  À Rejeter\n",
       "Proposition 1                 BIEN      5.10%  ...       19.90%     10.60%\n",
       "Proposition 2           ASSEZ BIEN      8.90%  ...       10.70%     20.30%\n",
       "Proposition 3          INSUFFISANT     14.70%  ...       20.00%     30.90%\n",
       "\n",
       "[3 rows x 7 columns]"
      ]
     },
     "execution_count": 5,
     "metadata": {},
     "output_type": "execute_result"
    }
   ],
   "source": [
    "vote_results_percent"
   ]
  },
  {
   "cell_type": "code",
   "execution_count": 6,
   "metadata": {
    "colab": {
     "base_uri": "https://localhost:8080/",
     "height": 666
    },
    "id": "HqwhwkuUT2GN",
    "outputId": "75ea6f18-1ca8-4b0e-aa4d-dc369023df09"
   },
   "outputs": [
    {
     "name": "stderr",
     "output_type": "stream",
     "text": [
      "<frozen importlib._bootstrap>:219: RuntimeWarning: numpy.ufunc size changed, may indicate binary incompatibility. Expected 216 from C header, got 232 from PyObject\n",
      "<frozen importlib._bootstrap>:219: RuntimeWarning: numpy.ufunc size changed, may indicate binary incompatibility. Expected 216 from C header, got 232 from PyObject\n",
      "<frozen importlib._bootstrap>:219: RuntimeWarning: numpy.ufunc size changed, may indicate binary incompatibility. Expected 216 from C header, got 232 from PyObject\n",
      "<frozen importlib._bootstrap>:219: RuntimeWarning: numpy.ufunc size changed, may indicate binary incompatibility. Expected 216 from C header, got 232 from PyObject\n"
     ]
    },
    {
     "data": {
      "application/javascript": "\n        if (window._pyforest_update_imports_cell) { window._pyforest_update_imports_cell('import pandas as pd\\nimport seaborn as sns'); }\n    ",
      "text/plain": [
       "<IPython.core.display.Javascript object>"
      ]
     },
     "metadata": {},
     "output_type": "display_data"
    },
    {
     "data": {
      "application/javascript": "\n        if (window._pyforest_update_imports_cell) { window._pyforest_update_imports_cell('import pandas as pd\\nimport matplotlib.pyplot as plt\\nimport seaborn as sns'); }\n    ",
      "text/plain": [
       "<IPython.core.display.Javascript object>"
      ]
     },
     "metadata": {},
     "output_type": "display_data"
    },
    {
     "data": {
      "image/png": "[encoded data removed]",
      "text/plain": [
       "<Figure size 1152x576 with 2 Axes>"
      ]
     },
     "metadata": {},
     "output_type": "display_data"
    }
   ],
   "source": [
    "custom_params = {\n",
    "    \"axes.spines.top\": False,\n",
    "    \"axes.spines.right\": False,\n",
    "}\n",
    "sns.set_theme(rc=custom_params, style=\"ticks\", palette=\"pastel\")\n",
    "\n",
    "fig, (ax, lax) = plt.subplots(\n",
    "    ncols=2,\n",
    "    gridspec_kw={\"width_ratios\": [8, 1]},\n",
    "    figsize=(16, 8),\n",
    ")\n",
    "\n",
    "ax.set_title(\"Jugement Majoritaire\")\n",
    "\n",
    "vote_results_percent.sort_index(ascending=False).plot(\n",
    "    kind=\"barh\",\n",
    "    stacked=True,\n",
    "    color=(\"darkgreen\", \"green\", \"lightgreen\", \"gold\", \"red\", \"darkred\"),\n",
    "    alpha=0.8,\n",
    "    ax=ax,\n",
    ")\n",
    "\n",
    "ax.axvline(\n",
    "    x=0.5,\n",
    "    color=\"black\",\n",
    "    linestyle=\"--\",\n",
    "    linewidth=2,\n",
    "    label=\"Jugement Majoritaire\",\n",
    ")\n",
    "\n",
    "handles, labels = ax.get_legend_handles_labels()\n",
    "ax.legend().set_visible(False)\n",
    "\n",
    "lax.legend(handles, labels, loc=\"center\", title=\"Légende\")\n",
    "lax.axis(\"off\");"
   ]
  },
  {
   "cell_type": "code",
   "execution_count": null,
   "metadata": {},
   "outputs": [],
   "source": []
  }
 ],
 "metadata": {
  "colab": {
   "collapsed_sections": [],
   "name": "Untitled8.ipynb",
   "provenance": []
  },
  "kernelspec": {
   "display_name": "Python 3 (ipykernel)",
   "language": "python",
   "name": "python3"
  },
  "language_info": {
   "codemirror_mode": {
    "name": "ipython",
    "version": 3
   },
   "file_extension": ".py",
   "mimetype": "text/x-python",
   "name": "python",
   "nbconvert_exporter": "python",
   "pygments_lexer": "ipython3",
   "version": "3.8.8"
  }
 },
 "nbformat": 4,
 "nbformat_minor": 4
}
